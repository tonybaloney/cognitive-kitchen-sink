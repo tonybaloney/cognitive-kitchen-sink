{
 "cells": [
  {
   "cell_type": "code",
   "execution_count": 44,
   "source": [
    "import pandas as pd\n",
    "\n",
    "\n",
    "sightings = pd.read_csv('koala-survey-sightings-data.csv', encoding='utf-8', parse_dates=[['Date', 'Time']])\n",
    "\n",
    "# They used a shorthand for some of the genus\n",
    "sightings['TreeSpecies'] = sightings['TreeSpecies'].replace({\"E.\": \"Eucalyptus\", \"L.\":\"Lophostemon\", \"C.\": \"Corymbia\", \"A.\": \"Angophora\"}, regex=True)\n",
    "sightings['TreeSpecies'] = sightings['TreeSpecies'].dropna()\n",
    "sightings.drop_duplicates(subset=['TreeSpecies'], inplace=True)\n",
    "\n",
    "sightings[['TreeSpecies']].to_csv('koala-sightings-species.csv')\n",
    "# ^ Upload that file to the ALA and download the results and field guide with a mapping to the correct species.\n",
    "#sightings_with_species_info = pd.merge(sightings, unique_df, right_on=\"Scientific Name - original\", left_on=\"TreeSpecies\", how=\"left\")"
   ],
   "outputs": [],
   "metadata": {}
  },
  {
   "cell_type": "code",
   "execution_count": 45,
   "source": [
    "import requests\n",
    "from urllib.parse import urlsplit\n",
    "import os\n",
    "processed_df = pd.read_csv('SEQ_Koala_Survey_Data_2010_-_2015.csv')\n",
    "\n",
    "for _, row in processed_df.iterrows():\n",
    "    doc_id = urlsplit(row[\"guid\"]).path.split('/')[-1]\n",
    "    r = requests.get(row[\"guid\"] + \".json\")\n",
    "    with open(os.path.join('apni', doc_id + '.json'), 'wb') as f:\n",
    "        f.write( r.content )"
   ],
   "outputs": [],
   "metadata": {}
  },
  {
   "cell_type": "code",
   "execution_count": 14,
   "source": [
    "import requests\n",
    "from bs4 import BeautifulSoup\n",
    "import pandas as pd\n",
    "from urllib.parse import urlsplit\n",
    "import os\n",
    "\n",
    "processed_df = pd.read_csv('SEQ_Koala_Survey_Data_2010_-_2015.csv')\n",
    "\n",
    "for _, row in processed_df.iterrows():\n",
    "    try:\n",
    "        doc_id = urlsplit(row[\"guid\"]).path.split('/')[-1]\n",
    "        path = os.path.join('apni', doc_id + '.txt')\n",
    "        if not os.path.exists(path):\n",
    "            response = requests.get(\n",
    "                url=\"https://en.wikipedia.org/wiki/{0}\".format(row[\"scientificName\"].replace(\" \", \"_\")),\n",
    "            )\n",
    "            soup = BeautifulSoup(response.content, 'html.parser')\n",
    "            d = soup.find(id=\"Description\").parent.next_sibling.next_sibling.get_text()\n",
    "            with open(os.path.join('apni', doc_id + '.txt'), 'w') as f:\n",
    "                f.write(d)\n",
    "        else:\n",
    "            print(path, \" already exists\")\n",
    "    except Exception as e:\n",
    "        print(e, row[0])"
   ],
   "outputs": [
    {
     "output_type": "stream",
     "name": "stdout",
     "text": [
      "apni/2916005.txt  already exists\n",
      "apni/2895329.txt  already exists\n",
      "apni/2899524.txt  already exists\n",
      "apni/2887514.txt  already exists\n",
      "apni/51290068.txt  already exists\n",
      "apni/2914381.txt  already exists\n",
      "apni/2914136.txt  already exists\n",
      "apni/2897003.txt  already exists\n",
      "apni/2892322.txt  already exists\n",
      "apni/51258114.txt  already exists\n",
      "apni/2895194.txt  already exists\n",
      "'NoneType' object has no attribute 'parent' Lophostemon suaveolens\n",
      "apni/2906254.txt  already exists\n",
      "apni/2908951.txt  already exists\n",
      "apni/2897003.txt  already exists\n",
      "apni/2915125.txt  already exists\n",
      "apni/2887103.txt  already exists\n",
      "apni/51289954.txt  already exists\n",
      "apni/2912509.txt  already exists\n",
      "apni/2919306.txt  already exists\n",
      "apni/51302291.txt  already exists\n",
      "apni/2903018.txt  already exists\n",
      "apni/2904406.txt  already exists\n",
      "apni/7622844.txt  already exists\n",
      "apni/2914034.txt  already exists\n",
      "apni/2914283.txt  already exists\n",
      "apni/2918082.txt  already exists\n",
      "'NoneType' object has no attribute 'parent' Corymbia Callistemon\n",
      "apni/2916678.txt  already exists\n",
      "apni/5274818.txt  already exists\n",
      "apni/2910275.txt  already exists\n",
      "apni/2914034.txt  already exists\n",
      "apni/2892197.txt  already exists\n",
      "apni/2894339.txt  already exists\n",
      "apni/2889146.txt  already exists\n",
      "apni/6337070.txt  already exists\n",
      "apni/2918195.txt  already exists\n",
      "apni/2891580.txt  already exists\n",
      "apni/2893120.txt  already exists\n",
      "apni/2892558.txt  already exists\n",
      "apni/2908295.txt  already exists\n",
      "'NoneType' object has no attribute 'parent' Ficus sp.\n",
      "apni/2894353.txt  already exists\n",
      "apni/2916589.txt  already exists\n",
      "apni/2890445.txt  already exists\n",
      "apni/2892956.txt  already exists\n",
      "apni/2887514.txt  already exists\n",
      "'NoneType' object has no attribute 'parent' Lophostemon\n",
      "apni/2899127.txt  already exists\n",
      "apni/2915125.txt  already exists\n",
      "apni/2913904.txt  already exists\n",
      "apni/2889767.txt  already exists\n",
      "apni/2896580.txt  already exists\n"
     ]
    }
   ],
   "metadata": {}
  },
  {
   "cell_type": "code",
   "execution_count": 16,
   "source": [
    "# generate plants.json\n",
    "processed_df = pd.read_csv('SEQ_Koala_Survey_Data_2010_-_2015.csv')\n",
    "index = {}\n",
    "for _, row in processed_df.iterrows():\n",
    "    doc_id = urlsplit(row[\"guid\"]).path.split('/')[-1]\n",
    "    path = os.path.join('apni', doc_id + '.txt')\n",
    "    index[row['Supplied Name']] = {'id': doc_id, 'scientificName': row['scientificName'], 'family': row['family'] }\n",
    "    print('<option value=\"{0}\">{1}</option>'.format(row['Supplied Name'], row['Supplied Name']))\n",
    "    \n",
    "import json\n",
    "with open('plants.json', 'w') as f:\n",
    "    f.write(json.dumps(index))\n"
   ],
   "outputs": [
    {
     "output_type": "execute_result",
     "data": {
      "text/plain": [
       "'{\"Eucalyptus carnea\": {\"id\": \"2916005\", \"scientificName\": \"Eucalyptus carnea\", \"family\": \"Myrtaceae\"}, \"Eucalyptus microcorys\": {\"id\": \"2895329\", \"scientificName\": \"Eucalyptus microcorys\", \"family\": \"Myrtaceae\"}, \"Alphitonia excelsa\": {\"id\": \"2899524\", \"scientificName\": \"Alphitonia excelsa\", \"family\": \"Rhamnaceae\"}, \"Melaleuca quinquenervia\": {\"id\": \"2887514\", \"scientificName\": \"Melaleuca quinquenervia\", \"family\": \"Myrtaceae\"}, \"Eucalyptus tereticornis\": {\"id\": \"51290068\", \"scientificName\": \"Eucalyptus tereticornis\", \"family\": \"Myrtaceae\"}, \"Eucalyptus siderophloia\": {\"id\": \"2914381\", \"scientificName\": \"Eucalyptus siderophloia\", \"family\": \"Myrtaceae\"}, \"Eucalyptus racemosa\": {\"id\": \"2914136\", \"scientificName\": \"Eucalyptus racemosa\", \"family\": \"Myrtaceae\"}, \"Corymbia trachyphloia\": {\"id\": \"2897003\", \"scientificName\": \"Corymbia trachyphloia\", \"family\": \"Myrtaceae\"}, \"Eucalyptus littoralis\": {\"id\": \"2891244\", \"scientificName\": \"Eucalyptus litoralis\", \"family\": \"Myrtaceae\"}, \"Eucalyptus seeana\": {\"id\": \"2892322\", \"scientificName\": \"Eucalyptus seeana\", \"family\": \"Myrtaceae\"}, \"Angophora\": {\"id\": \"51258114\", \"scientificName\": \"Angophora\", \"family\": \"Myrtaceae\"}, \"Angophora woodsiana\": {\"id\": \"2895194\", \"scientificName\": \"Angophora woodsiana\", \"family\": \"Myrtaceae\"}, \"Lophostemon suaveolens\": {\"id\": \"2889131\", \"scientificName\": \"Lophostemon suaveolens\", \"family\": \"Myrtaceae\"}, \"Eucalyptus propinqua\": {\"id\": \"2906254\", \"scientificName\": \"Eucalyptus propinqua\", \"family\": \"Myrtaceae\"}, \"Lophostemon confertus\": {\"id\": \"2908951\", \"scientificName\": \"Lophostemon confertus\", \"family\": \"Myrtaceae\"}, \"Eucalyptus trachyphloia\": {\"id\": \"2897003\", \"scientificName\": \"Corymbia trachyphloia\", \"family\": \"Myrtaceae\"}, \"Corymbia intermedia\": {\"id\": \"2915125\", \"scientificName\": \"Corymbia intermedia\", \"family\": \"Myrtaceae\"}, \"Eucalyptus tindaliae\": {\"id\": \"2887103\", \"scientificName\": \"Eucalyptus tindaliae\", \"family\": \"Myrtaceae\"}, \"Eucalyptus moluccana\": {\"id\": \"51289954\", \"scientificName\": \"Eucalyptus moluccana\", \"family\": \"Myrtaceae\"}, \"Corymbia citriodora\": {\"id\": \"2912509\", \"scientificName\": \"Corymbia citriodora\", \"family\": \"Myrtaceae\"}, \"Eucalyptus resinifera\": {\"id\": \"2919306\", \"scientificName\": \"Eucalyptus resinifera\", \"family\": \"Myrtaceae\"}, \"Eucalyptus\": {\"id\": \"51302291\", \"scientificName\": \"Eucalyptus\", \"family\": \"Myrtaceae\"}, \"Cinnamomum camphora\": {\"id\": \"2903018\", \"scientificName\": \"Cinnamomum camphora\", \"family\": \"Lauraceae\"}, \"Eucalyptus robusta\": {\"id\": \"2904406\", \"scientificName\": \"Eucalyptus robusta\", \"family\": \"Myrtaceae\"}, \"Eucalyptus fibrosa\": {\"id\": \"7622844\", \"scientificName\": \"Eucalyptus fibrosa\", \"family\": \"Myrtaceae\"}, \"Eucalyptus maculata\": {\"id\": \"2914034\", \"scientificName\": \"Corymbia maculata\", \"family\": \"Myrtaceae\"}, \"Eucalyptus dunnii\": {\"id\": \"2914283\", \"scientificName\": \"Eucalyptus dunnii\", \"family\": \"Myrtaceae\"}, \"Grevillea robusta\": {\"id\": \"2918082\", \"scientificName\": \"Grevillea robusta\", \"family\": \"Proteaceae\"}, \"Corymbia Callistemon\": {\"id\": \"223867\", \"scientificName\": \"Corymbia sect. Corymbia\", \"family\": \"Myrtaceae\"}, \"Corymbia torelliana \": {\"id\": \"2916678\", \"scientificName\": \"Corymbia torelliana\", \"family\": \"Myrtaceae\"}, \"Eucalyptus grandis\": {\"id\": \"5274818\", \"scientificName\": \"Eucalyptus grandis\", \"family\": \"Myrtaceae\"}, \"Eucalyptus curtisii\": {\"id\": \"2910275\", \"scientificName\": \"Eucalyptus curtisii\", \"family\": \"Myrtaceae\"}, \"Corymbia maculata\": {\"id\": \"2914034\", \"scientificName\": \"Corymbia maculata\", \"family\": \"Myrtaceae\"}, \"Eucalyptus crebra\": {\"id\": \"2892197\", \"scientificName\": \"Eucalyptus crebra\", \"family\": \"Myrtaceae\"}, \"Angophora leiocarpa\": {\"id\": \"2894339\", \"scientificName\": \"Angophora leiocarpa\", \"family\": \"Myrtaceae\"}, \"Eucalyptus acmeniodes\": {\"id\": \"2919575\", \"scientificName\": \"Eucalyptus acmenoides\", \"family\": \"Myrtaceae\"}, \"Corymbia henryi\": {\"id\": \"2889146\", \"scientificName\": \"Corymbia henryi\", \"family\": \"Myrtaceae\"}, \"Eucalyptus melanophloia\": {\"id\": \"6337070\", \"scientificName\": \"Eucalyptus melanophloia\", \"family\": \"Myrtaceae\"}, \"Corymbia tessellaris\": {\"id\": \"2918195\", \"scientificName\": \"Corymbia tessellaris\", \"family\": \"Myrtaceae\"}, \"Eucalyptus major\": {\"id\": \"2891580\", \"scientificName\": \"Eucalyptus major\", \"family\": \"Myrtaceae\"}, \"Casuarina glauca\": {\"id\": \"2893120\", \"scientificName\": \"Casuarina glauca\", \"family\": \"Casuarinaceae\"}, \"Acacia concurrens\": {\"id\": \"2892558\", \"scientificName\": \"Acacia concurrens\", \"family\": \"Fabaceae\"}, \"Eucalyptus eugenioides\": {\"id\": \"2908295\", \"scientificName\": \"Eucalyptus eugenioides\", \"family\": \"Myrtaceae\"}, \"Ficus sp.\": {\"id\": \"51303251\", \"scientificName\": \"Ficus sp.\", \"family\": \"Moraceae\"}, \"Glochidion ferdinandi\": {\"id\": \"2894353\", \"scientificName\": \"Glochidion ferdinandi\", \"family\": \"Phyllanthaceae\"}, \"Ficus benjamina\": {\"id\": \"2916589\", \"scientificName\": \"Ficus benjamina\", \"family\": \"Moraceae\"}, \"Ficus watkinsiana\": {\"id\": \"2890445\", \"scientificName\": \"Ficus watkinsiana\", \"family\": \"Moraceae\"}, \"Ficus macrophylla\": {\"id\": \"2892956\", \"scientificName\": \"Ficus macrophylla\", \"family\": \"Moraceae\"}, \"Lophostemon\": {\"id\": \"2888397\", \"scientificName\": \"Lophostemon\", \"family\": \"Myrtaceae\"}, \"Eucalyptus pilularis\": {\"id\": \"2899127\", \"scientificName\": \"Eucalyptus pilularis\", \"family\": \"Myrtaceae\"}, \"Eucalyptus intermedia\": {\"id\": \"2915125\", \"scientificName\": \"Corymbia intermedia\", \"family\": \"Myrtaceae\"}, \"Melaleuca leucadendra\": {\"id\": \"2913904\", \"scientificName\": \"Melaleuca leucadendra\", \"family\": \"Myrtaceae\"}, \"Jacaranda\": {\"id\": \"2889767\", \"scientificName\": \"Jacaranda\", \"family\": \"Bignoniaceae\"}, \"Eucalyptus punctata\": {\"id\": \"2896580\", \"scientificName\": \"Eucalyptus punctata\", \"family\": \"Myrtaceae\"}}'"
      ]
     },
     "metadata": {},
     "execution_count": 16
    }
   ],
   "metadata": {}
  }
 ],
 "metadata": {
  "orig_nbformat": 4,
  "language_info": {
   "name": "python",
   "version": "3.8.2",
   "mimetype": "text/x-python",
   "codemirror_mode": {
    "name": "ipython",
    "version": 3
   },
   "pygments_lexer": "ipython3",
   "nbconvert_exporter": "python",
   "file_extension": ".py"
  },
  "kernelspec": {
   "name": "python3",
   "display_name": "Python 3.8.2 64-bit ('.venv': venv)"
  },
  "interpreter": {
   "hash": "2059da2e5cf75778d5b7d8bf445322992abb531592b6b4d627ef178d63cba318"
  }
 },
 "nbformat": 4,
 "nbformat_minor": 2
}