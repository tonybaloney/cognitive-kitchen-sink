{
 "cells": [
  {
   "cell_type": "code",
   "execution_count": 44,
   "source": [
    "import pandas as pd\n",
    "\n",
    "\n",
    "sightings = pd.read_csv('koala-survey-sightings-data.csv', encoding='utf-8', parse_dates=[['Date', 'Time']])\n",
    "\n",
    "# They used a shorthand for some of the genus\n",
    "sightings['TreeSpecies'] = sightings['TreeSpecies'].replace({\"E.\": \"Eucalyptus\", \"L.\":\"Lophostemon\", \"C.\": \"Corymbia\", \"A.\": \"Angophora\"}, regex=True)\n",
    "sightings['TreeSpecies'] = sightings['TreeSpecies'].dropna()\n",
    "sightings.drop_duplicates(subset=['TreeSpecies'], inplace=True)\n",
    "\n",
    "sightings[['TreeSpecies']].to_csv('koala-sightings-species.csv')\n",
    "# ^ Upload that file to the ALA and download the results and field guide with a mapping to the correct species.\n",
    "#sightings_with_species_info = pd.merge(sightings, unique_df, right_on=\"Scientific Name - original\", left_on=\"TreeSpecies\", how=\"left\")"
   ],
   "outputs": [],
   "metadata": {}
  },
  {
   "cell_type": "code",
   "execution_count": 45,
   "source": [
    "import requests\n",
    "from urllib.parse import urlsplit\n",
    "import os\n",
    "processed_df = pd.read_csv('SEQ_Koala_Survey_Data_2010_-_2015.csv')\n",
    "\n",
    "for _, row in processed_df.iterrows():\n",
    "    doc_id = urlsplit(row[\"guid\"]).path.split('/')[-1]\n",
    "    r = requests.get(row[\"guid\"] + \".json\")\n",
    "    with open(os.path.join('apni', doc_id + '.json'), 'wb') as f:\n",
    "        f.write( r.content )"
   ],
   "outputs": [],
   "metadata": {}
  },
  {
   "cell_type": "code",
   "execution_count": 13,
   "source": [
    "import requests\n",
    "from bs4 import BeautifulSoup\n",
    "import pandas as pd\n",
    "from urllib.parse import urlsplit\n",
    "import os\n",
    "\n",
    "processed_df = pd.read_csv('SEQ_Koala_Survey_Data_2010_-_2015.csv')\n",
    "\n",
    "for _, row in processed_df.iterrows():\n",
    "    try:\n",
    "        doc_id = urlsplit(row[\"guid\"]).path.split('/')[-1]\n",
    "        path = os.path.join('apni', doc_id + '.txt')\n",
    "        if not os.path.exists(path):\n",
    "            response = requests.get(\n",
    "                url=\"https://en.wikipedia.org/wiki/{0}\".format(row[\"scientificName\"].replace(\" \", \"_\")),\n",
    "            )\n",
    "            soup = BeautifulSoup(response.content, 'html.parser')\n",
    "            d = soup.find(id=\"Description\").parent.next_sibling.next_sibling.get_text()\n",
    "            with open(os.path.join('apni', doc_id + '.txt'), 'w') as f:\n",
    "                f.write(d)\n",
    "        else:\n",
    "            print(path, \" already exists\")\n",
    "    except Exception as e:\n",
    "        print(e, row[0])"
   ],
   "outputs": [
    {
     "output_type": "stream",
     "name": "stdout",
     "text": [
      "apni/2896580.txt  already exists\n",
      "apni/2896580.txt  already exists\n",
      "apni/2896580.txt  already exists\n",
      "apni/2896580.txt  already exists\n",
      "apni/2896580.txt  already exists\n",
      "apni/2896580.txt  already exists\n",
      "apni/2896580.txt  already exists\n",
      "apni/2896580.txt  already exists\n",
      "apni/2896580.txt  already exists\n",
      "apni/2896580.txt  already exists\n",
      "apni/2896580.txt  already exists\n",
      "apni/2896580.txt  already exists\n",
      "apni/2896580.txt  already exists\n",
      "apni/2896580.txt  already exists\n",
      "apni/2896580.txt  already exists\n",
      "apni/2896580.txt  already exists\n",
      "apni/2896580.txt  already exists\n",
      "apni/2896580.txt  already exists\n",
      "apni/2896580.txt  already exists\n",
      "apni/2896580.txt  already exists\n",
      "apni/2896580.txt  already exists\n",
      "apni/2896580.txt  already exists\n",
      "apni/2896580.txt  already exists\n",
      "apni/2896580.txt  already exists\n",
      "apni/2896580.txt  already exists\n",
      "apni/2896580.txt  already exists\n",
      "apni/2896580.txt  already exists\n",
      "apni/2896580.txt  already exists\n",
      "apni/2896580.txt  already exists\n",
      "apni/2896580.txt  already exists\n",
      "apni/2896580.txt  already exists\n",
      "apni/2896580.txt  already exists\n",
      "apni/2896580.txt  already exists\n",
      "apni/2896580.txt  already exists\n",
      "apni/2896580.txt  already exists\n",
      "apni/2896580.txt  already exists\n",
      "apni/2896580.txt  already exists\n",
      "apni/2896580.txt  already exists\n",
      "apni/2896580.txt  already exists\n",
      "apni/2896580.txt  already exists\n",
      "apni/2896580.txt  already exists\n",
      "apni/2896580.txt  already exists\n",
      "apni/2896580.txt  already exists\n",
      "apni/2896580.txt  already exists\n",
      "apni/2896580.txt  already exists\n",
      "apni/2896580.txt  already exists\n",
      "apni/2896580.txt  already exists\n",
      "apni/2896580.txt  already exists\n",
      "apni/2896580.txt  already exists\n",
      "apni/2896580.txt  already exists\n",
      "apni/2896580.txt  already exists\n",
      "apni/2896580.txt  already exists\n",
      "apni/2896580.txt  already exists\n",
      "apni/2896580.txt  already exists\n",
      "apni/2896580.txt  already exists\n"
     ]
    }
   ],
   "metadata": {}
  }
 ],
 "metadata": {
  "orig_nbformat": 4,
  "language_info": {
   "name": "python",
   "version": "3.8.2",
   "mimetype": "text/x-python",
   "codemirror_mode": {
    "name": "ipython",
    "version": 3
   },
   "pygments_lexer": "ipython3",
   "nbconvert_exporter": "python",
   "file_extension": ".py"
  },
  "kernelspec": {
   "name": "python3",
   "display_name": "Python 3.8.2 64-bit ('.venv': venv)"
  },
  "interpreter": {
   "hash": "2059da2e5cf75778d5b7d8bf445322992abb531592b6b4d627ef178d63cba318"
  }
 },
 "nbformat": 4,
 "nbformat_minor": 2
}